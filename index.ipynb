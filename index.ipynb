{
 "metadata": {
  "language": "Julia",
  "name": ""
 },
 "nbformat": 3,
 "nbformat_minor": 0,
 "worksheets": [
  {
   "cells": [
    {
     "cell_type": "heading",
     "level": 1,
     "metadata": {},
     "source": [
      "Short Julia Tutorial"
     ]
    },
    {
     "cell_type": "markdown",
     "metadata": {},
     "source": [
      "- [Introduction](introduction.ipynb)\n",
      "- [Basic Scalar Types](basic_scalar_types.ipynb)\n",
      "- [Strings](strings.ipynb)\n",
      "- [Tuples and Ranges](tuples_and_ranges.ipynb)\n",
      "- [Arrays](arrays.ipynb)\n",
      "- [Dictionaries](dictionaries.ipynb)\n",
      "- [Composite Types](composite_types.ipynb)\n",
      "- [Functions](functions.ipynb)\n",
      "- [Control Flow](control_flow.ipynb)\n",
      "- [Basic Parallel Computing](basic_parallel_computing.ipynb)"
     ]
    },
    {
     "cell_type": "heading",
     "level": 1,
     "metadata": {},
     "source": [
      "Julia Toy Examples"
     ]
    }
   ],
   "metadata": {}
  }
 ]
}