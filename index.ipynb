{
 "metadata": {
  "language": "Julia",
  "name": ""
 },
 "nbformat": 3,
 "nbformat_minor": 0,
 "worksheets": [
  {
   "cells": [
    {
     "cell_type": "heading",
     "level": 1,
     "metadata": {},
     "source": [
      "Short Julia Tutorial"
     ]
    },
    {
     "cell_type": "markdown",
     "metadata": {},
     "source": [
      "This is a short Julia tutorial covering elementary concepts to get started with Julia.\n",
      "- [Introduction](introduction.ipynb)\n",
      "- [Basic Scalar Types](basic_scalar_types.ipynb)\n",
      "- [Strings](strings.ipynb)\n",
      "- [Tuples and Ranges](tuples_and_ranges.ipynb)\n",
      "- [Arrays](arrays.ipynb)\n",
      "- [Dictionaries](dictionaries.ipynb)\n",
      "- [Composite Types](composite_types.ipynb)\n",
      "- [Functions](functions.ipynb)"
     ]
    },
    {
     "cell_type": "heading",
     "level": 1,
     "metadata": {},
     "source": [
      "Julia Toy Examples"
     ]
    },
    {
     "cell_type": "markdown",
     "metadata": {},
     "source": [
      "- [Filesystem and Data I/O](filesystem_and_data.ipynb)\n",
      "- [Distributions](distributions.ipynb)\n",
      "- [Plotting](plotting.ipynb)"
     ]
    }
   ],
   "metadata": {}
  }
 ]
}