{
 "metadata": {
  "language": "Julia",
  "name": ""
 },
 "nbformat": 3,
 "nbformat_minor": 0,
 "worksheets": [
  {
   "cells": [
    {
     "cell_type": "heading",
     "level": 1,
     "metadata": {},
     "source": [
      "Short Julia Tutorial"
     ]
    },
    {
     "cell_type": "markdown",
     "metadata": {},
     "source": [
      "- [Introduction](introduction.ipynb)\n",
      "- [Basic Scalar Types](basic_scalar_types.ipynb)\n",
      "- [Strings](strings.ipynb)\n",
      "- [Tuples and Ranges](tuples_and_ranges.ipynb)\n",
      "- [Arrays](arrays.ipynb)\n",
      "- [Dictionaries](dictionaries.ipynb)\n",
      "- [Composite Types](composite_types.ipynb)\n",
      "- [Functions](functions.ipynb)\n",
      "- [Control Flow](control_flow.ipynb)\n",
      "- [Basic Parallel Computing](basic_parallel_computing.ipynb)"
     ]
    },
    {
     "cell_type": "heading",
     "level": 1,
     "metadata": {},
     "source": [
      "Julia Toy Examples"
     ]
    },
    {
     "cell_type": "markdown",
     "metadata": {},
     "source": [
      "- [Filesystem and Data I/O](filesystem_and_data.ipynb)\n",
      "- [Distributions](distributions.ipynb)\n",
      "- [Dataframes](dataframes.ipynb)\n",
      "- [Plotting](plotting.ipynb)\n",
      "- [Monte Carlo Sampling](mcmc.ipynb)\n",
      "- [Performance Tips](performance_tips.ipynb)"
     ]
    }
   ],
   "metadata": {}
  }
 ]
}