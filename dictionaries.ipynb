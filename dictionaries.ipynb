{
 "metadata": {
  "language": "Julia",
  "name": ""
 },
 "nbformat": 3,
 "nbformat_minor": 0,
 "worksheets": [
  {
   "cells": [
    {
     "cell_type": "heading",
     "level": 1,
     "metadata": {},
     "source": [
      "Dictionaries"
     ]
    },
    {
     "cell_type": "code",
     "collapsed": false,
     "input": [
      "# Construct an empty dictionary with keys of type ASCIIString and values of type Float64\n",
      "Dict{ASCIIString, Float64}()"
     ],
     "language": "python",
     "metadata": {},
     "outputs": []
    },
    {
     "cell_type": "code",
     "collapsed": false,
     "input": [
      "# Construct dictionary with basketball player names as keys and number of NBA championships won by each player as values\n",
      "champions = [\"Bird\"=>3, \"Johnson\"=>5, \"Jordan\"=>6]"
     ],
     "language": "python",
     "metadata": {},
     "outputs": []
    },
    {
     "cell_type": "code",
     "collapsed": false,
     "input": [
      "# Get the number of NBA of championships that Jordan has won\n",
      "champions[\"Jordan\"]"
     ],
     "language": "python",
     "metadata": {},
     "outputs": []
    },
    {
     "cell_type": "code",
     "collapsed": false,
     "input": [
      "# Get the number of championships won by the players in the dictionary\n",
      "values(champions)"
     ],
     "language": "python",
     "metadata": {},
     "outputs": []
    },
    {
     "cell_type": "code",
     "collapsed": false,
     "input": [
      "# Check if Bird is in the dictionary\n",
      "haskey(champions, \"Bird\")"
     ],
     "language": "python",
     "metadata": {},
     "outputs": []
    },
    {
     "cell_type": "code",
     "collapsed": false,
     "input": [
      "# Check if Pippen is in the dictionary\n",
      "haskey(champions, \"Pippen\")"
     ],
     "language": "python",
     "metadata": {},
     "outputs": []
    },
    {
     "cell_type": "code",
     "collapsed": false,
     "input": [
      "champions[\"Pippen\"] = 6"
     ],
     "language": "python",
     "metadata": {},
     "outputs": []
    },
    {
     "cell_type": "code",
     "collapsed": false,
     "input": [
      "# Check if Jordan has won 6 champions according to the dictionary\n",
      "in((\"Jordan\", 6), champions)"
     ],
     "language": "python",
     "metadata": {},
     "outputs": []
    },
    {
     "cell_type": "code",
     "collapsed": false,
     "input": [
      "# Another way of checking if Jordan has won 6 champions according to the dictionary\n",
      "champions[\"Jordan\"] == 6"
     ],
     "language": "python",
     "metadata": {},
     "outputs": []
    },
    {
     "cell_type": "code",
     "collapsed": false,
     "input": [
      "# Iterate through dictionary to get name player and associated number of NBA championships won by him\n",
      "for c in champions\n",
      "  println(\"$(c[1]) has won $(c[2]) champions\")\n",
      "end"
     ],
     "language": "python",
     "metadata": {},
     "outputs": []
    },
    {
     "cell_type": "code",
     "collapsed": false,
     "input": [
      "delete!(champions, \"Johnson\")"
     ],
     "language": "python",
     "metadata": {},
     "outputs": []
    },
    {
     "cell_type": "code",
     "collapsed": false,
     "input": [
      "# Alternative way of iterating through dictionary to get name player and associated number of NBA championships won by him\n",
      "# Notice that Johnson is not in the dictionary anymore since his entry has been deleted\n",
      "for (k, v) in champions\n",
      "  println(\"$k has won $v champions\")\n",
      "end"
     ],
     "language": "python",
     "metadata": {},
     "outputs": []
    }
   ],
   "metadata": {}
  }
 ]
}