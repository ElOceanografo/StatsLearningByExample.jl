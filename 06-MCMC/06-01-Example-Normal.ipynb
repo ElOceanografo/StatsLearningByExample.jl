{
 "cells": [
  {
   "cell_type": "markdown",
   "metadata": {},
   "source": [
    "# Example 06-01: Sampling from a Gaussian N(0, 1) target"
   ]
  },
  {
   "cell_type": "code",
   "execution_count": null,
   "metadata": {
    "collapsed": false
   },
   "outputs": [],
   "source": [
    "using Distributions\n",
    "using Gadfly\n",
    "using Klara"
   ]
  },
  {
   "cell_type": "code",
   "execution_count": null,
   "metadata": {
    "collapsed": false
   },
   "outputs": [],
   "source": [
    "p = BasicContUnvParameter(:p, pdf=Normal())"
   ]
  },
  {
   "cell_type": "code",
   "execution_count": null,
   "metadata": {
    "collapsed": false
   },
   "outputs": [],
   "source": [
    "model = likelihood_model(p, false)"
   ]
  },
  {
   "cell_type": "code",
   "execution_count": null,
   "metadata": {
    "collapsed": false
   },
   "outputs": [],
   "source": [
    "sampler = MH()"
   ]
  },
  {
   "cell_type": "code",
   "execution_count": null,
   "metadata": {
    "collapsed": false
   },
   "outputs": [],
   "source": [
    "mcrange = BasicMCRange(nsteps=10000, burnin=1000)"
   ]
  },
  {
   "cell_type": "code",
   "execution_count": null,
   "metadata": {
    "collapsed": false
   },
   "outputs": [],
   "source": [
    "v0 = Dict(:p=>10.)"
   ]
  },
  {
   "cell_type": "code",
   "execution_count": null,
   "metadata": {
    "collapsed": false
   },
   "outputs": [],
   "source": [
    "job = BasicMCJob(model, sampler, mcrange, v0)"
   ]
  },
  {
   "cell_type": "code",
   "execution_count": null,
   "metadata": {
    "collapsed": false
   },
   "outputs": [],
   "source": [
    "run(job)"
   ]
  },
  {
   "cell_type": "code",
   "execution_count": null,
   "metadata": {
    "collapsed": false
   },
   "outputs": [],
   "source": [
    "chain = output(job)"
   ]
  },
  {
   "cell_type": "code",
   "execution_count": null,
   "metadata": {
    "collapsed": false
   },
   "outputs": [],
   "source": [
    "mean(chain)"
   ]
  },
  {
   "cell_type": "code",
   "execution_count": null,
   "metadata": {
    "collapsed": false
   },
   "outputs": [],
   "source": [
    "acceptance(chain, diagnostics=false)"
   ]
  },
  {
   "cell_type": "code",
   "execution_count": null,
   "metadata": {
    "collapsed": false
   },
   "outputs": [],
   "source": [
    "n = length(chain.value)\n",
    "plot(\n",
    "  x=1:n,\n",
    "  y=chain.value,\n",
    "  Geom.line,\n",
    "  Coord.Cartesian(xmax=n),\n",
    "  Guide.xlabel(\"\"),\n",
    "  Guide.ylabel(\"Chain\")\n",
    ")"
   ]
  },
  {
   "cell_type": "code",
   "execution_count": null,
   "metadata": {
    "collapsed": false
   },
   "outputs": [],
   "source": [
    "mcplot = plot(x=chain.value, Geom.histogram(density=false, bincount=30))"
   ]
  },
  {
   "cell_type": "code",
   "execution_count": null,
   "metadata": {
    "collapsed": false
   },
   "outputs": [],
   "source": [
    "draw(PDF(\"/Users/theodore/tmp/normal_hist.pdf\", 8inch, 6inch), mcplot)"
   ]
  },
  {
   "cell_type": "code",
   "execution_count": null,
   "metadata": {
    "collapsed": false
   },
   "outputs": [],
   "source": [
    "# Note that the following plot breaks because of the following Gadfly bug:\n",
    "# https://github.com/GiovineItalia/Gadfly.jl/issues/822\n",
    "xrange = -5.:0.001:5\n",
    "mcplot = plot(\n",
    "  Guide.title(\"Normal(0, 1)\"),\n",
    "  layer(\n",
    "    x=collect(xrange),\n",
    "    y=[pdf(Normal(), v) for v in xrange],\n",
    "    Geom.line,\n",
    "    Theme(default_color=colorant\"red\")\n",
    "  ),\n",
    "layer(x=chain.value, Geom.histogram(density=false, bincount=30))\n",
    ")"
   ]
  }
 ],
 "metadata": {
  "kernelspec": {
   "display_name": "Julia 0.5.0",
   "language": "julia",
   "name": "julia-0.5"
  },
  "language_info": {
   "file_extension": ".jl",
   "mimetype": "application/julia",
   "name": "julia",
   "version": "0.5.0"
  }
 },
 "nbformat": 4,
 "nbformat_minor": 0
}
