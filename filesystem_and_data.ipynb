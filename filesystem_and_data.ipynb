{
 "metadata": {
  "language": "Julia",
  "name": ""
 },
 "nbformat": 3,
 "nbformat_minor": 0,
 "worksheets": [
  {
   "cells": [
    {
     "cell_type": "heading",
     "level": 1,
     "metadata": {},
     "source": [
      "Filesystem and Data I/O"
     ]
    },
    {
     "cell_type": "heading",
     "level": 2,
     "metadata": {},
     "source": [
      "Filesystem"
     ]
    },
    {
     "cell_type": "code",
     "collapsed": false,
     "input": [
      "# Print working directory\n",
      "pwd()"
     ],
     "language": "python",
     "metadata": {},
     "outputs": []
    },
    {
     "cell_type": "code",
     "collapsed": false,
     "input": [
      "# Get the files and directories in the current directory\n",
      "readdir()"
     ],
     "language": "python",
     "metadata": {},
     "outputs": []
    },
    {
     "cell_type": "code",
     "collapsed": false,
     "input": [
      "# Get the home directory\n",
      "ENV[\"HOME\"]"
     ],
     "language": "python",
     "metadata": {},
     "outputs": []
    },
    {
     "cell_type": "code",
     "collapsed": false,
     "input": [
      "# Another way of getting the home directory\n",
      "homedir()"
     ],
     "language": "python",
     "metadata": {},
     "outputs": []
    },
    {
     "cell_type": "code",
     "collapsed": false,
     "input": [
      "# Create the path ~/tmp/julia\n",
      "JULIATMPDIR = joinpath(homedir(), \"tmp/julia\")"
     ],
     "language": "python",
     "metadata": {},
     "outputs": []
    },
    {
     "cell_type": "code",
     "collapsed": false,
     "input": [
      "# If ~/tmp/julia directory doesn't exist, then create it\n",
      "if !isdir(JULIATMPDIR)\n",
      "  mkpath(JULIATMPDIR)\n",
      "end"
     ],
     "language": "python",
     "metadata": {},
     "outputs": []
    },
    {
     "cell_type": "code",
     "collapsed": false,
     "input": [
      "# Create the directory ~/tmp/julia/dir01/dir02\n",
      "mkpath(joinpath(JULIATMPDIR, \"dir01/dir02\"))"
     ],
     "language": "python",
     "metadata": {},
     "outputs": []
    },
    {
     "cell_type": "code",
     "collapsed": false,
     "input": [
      "# Delete the directory ~/tmp/julia/dir01/dir02\n",
      "rm(joinpath(JULIATMPDIR, \"dir01\"), recursive=true)"
     ],
     "language": "python",
     "metadata": {},
     "outputs": []
    },
    {
     "cell_type": "heading",
     "level": 2,
     "metadata": {},
     "source": [
      "Data I/O"
     ]
    },
    {
     "cell_type": "code",
     "collapsed": false,
     "input": [
      "# Define a vector\n",
      "x = [2.5, 3.0, 1.0]"
     ],
     "language": "python",
     "metadata": {},
     "outputs": []
    },
    {
     "cell_type": "code",
     "collapsed": false,
     "input": [
      "# Write x to a file\n",
      "writedlm(joinpath(JULIATMPDIR, \"out01.txt\"), x, ' ')"
     ],
     "language": "python",
     "metadata": {},
     "outputs": []
    },
    {
     "cell_type": "code",
     "collapsed": false,
     "input": [
      "# Write x to a file line by line\n",
      "OUTFILE = joinpath(JULIATMPDIR, \"out02.txt\");\n",
      "\n",
      "outstream = open(OUTFILE, \"w+\");\n",
      "\n",
      "for i = 1:length(x)\n",
      "  @printf(outstream, \"%.f\\n\", x[i])\n",
      "end\n",
      "\n",
      "close(outstream)"
     ],
     "language": "python",
     "metadata": {},
     "outputs": []
    },
    {
     "cell_type": "code",
     "collapsed": false,
     "input": [
      "# Read a file into a vector\n",
      "y = readdlm(joinpath(JULIATMPDIR, \"out01.txt\"), ' ')"
     ],
     "language": "python",
     "metadata": {},
     "outputs": []
    },
    {
     "cell_type": "code",
     "collapsed": false,
     "input": [
      "# Read a file line by line\n",
      "instream = open(OUTFILE, \"r\");\n",
      "\n",
      "while !eof(instream)\n",
      "  println(float64(readline(instream)))\n",
      "end\n",
      "\n",
      "close(instream)"
     ],
     "language": "python",
     "metadata": {},
     "outputs": []
    }
   ],
   "metadata": {}
  }
 ]
}