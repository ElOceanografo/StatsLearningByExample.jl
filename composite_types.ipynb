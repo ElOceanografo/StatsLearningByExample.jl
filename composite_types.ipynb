{
 "metadata": {
  "language": "Julia",
  "name": ""
 },
 "nbformat": 3,
 "nbformat_minor": 0,
 "worksheets": [
  {
   "cells": [
    {
     "cell_type": "heading",
     "level": 1,
     "metadata": {},
     "source": [
      "Types"
     ]
    },
    {
     "cell_type": "heading",
     "level": 2,
     "metadata": {},
     "source": [
      "Abstract Types"
     ]
    },
    {
     "cell_type": "code",
     "collapsed": false,
     "input": [
      "# Define abstract type Shape\n",
      "abstract Shape"
     ],
     "language": "python",
     "metadata": {},
     "outputs": []
    },
    {
     "cell_type": "code",
     "collapsed": false,
     "input": [
      "# Define abstract ConicSection type as sub-type of abstract type Shape\n",
      "abstract ConicSection <: Shape"
     ],
     "language": "python",
     "metadata": {},
     "outputs": []
    },
    {
     "cell_type": "heading",
     "level": 2,
     "metadata": {},
     "source": [
      "Composite Types"
     ]
    },
    {
     "cell_type": "code",
     "collapsed": false,
     "input": [
      "# Define composite type Point with fields the point coordinates x and y\n",
      "type Point\n",
      "  x::Float64\n",
      "  y::Float64\n",
      "end"
     ],
     "language": "python",
     "metadata": {},
     "outputs": []
    },
    {
     "cell_type": "code",
     "collapsed": false,
     "input": [
      "# Assign the point Point(1.0, 2.0) to p\n",
      "p = Point(1.0, 2.0)"
     ],
     "language": "python",
     "metadata": {},
     "outputs": []
    },
    {
     "cell_type": "code",
     "collapsed": false,
     "input": [
      "# Get the abscissa (x field of p) and the ordinate (y field o p) of point p\n",
      "p.x, p.y"
     ],
     "language": "python",
     "metadata": {},
     "outputs": []
    },
    {
     "cell_type": "code",
     "collapsed": false,
     "input": [
      "# Change the ordinate y of p\n",
      "p.y = 3.0"
     ],
     "language": "python",
     "metadata": {},
     "outputs": []
    },
    {
     "cell_type": "code",
     "collapsed": false,
     "input": [
      "# The point p has been changed\n",
      "show(p)"
     ],
     "language": "python",
     "metadata": {},
     "outputs": []
    },
    {
     "cell_type": "code",
     "collapsed": false,
     "input": [
      "# A type can be declared as immutable\n",
      "# Immutable types can be more efficient in some cases\n",
      "# Once instantiated, they can't be mutated\n",
      "immutable ImmutablePoint\n",
      "  x::Float64\n",
      "  y::Float64\n",
      "end"
     ],
     "language": "python",
     "metadata": {},
     "outputs": []
    },
    {
     "cell_type": "code",
     "collapsed": false,
     "input": [
      "# Assign the point Point(1.0, 2.0) to q\n",
      "q = ImmutablePoint(1.0, 2.0)"
     ],
     "language": "python",
     "metadata": {},
     "outputs": []
    },
    {
     "cell_type": "code",
     "collapsed": false,
     "input": [
      "# Once instantiated, the fields of an immutable type can't be mutated\n",
      "try:\n",
      "  q.y = 3\n",
      "catch e\n",
      "  println(e)\n",
      "end"
     ],
     "language": "python",
     "metadata": {},
     "outputs": []
    },
    {
     "cell_type": "code",
     "collapsed": false,
     "input": [
      "# Define Circle to be a sub-type of the abstract ConicSection type\n",
      "type Circle <: ConicSection\n",
      "    centre::Point # Circle center is of type Point\n",
      "    radius::Float64 # Circle radius is a floating point number\n",
      "end"
     ],
     "language": "python",
     "metadata": {},
     "outputs": []
    },
    {
     "cell_type": "code",
     "collapsed": false,
     "input": [
      "# Construct the unit circle (with centre (0.0, 0.0) and radius 1)\n",
      "circle = Circle(Point(0.0, 0.0), 1.0)"
     ],
     "language": "python",
     "metadata": {},
     "outputs": []
    },
    {
     "cell_type": "code",
     "collapsed": false,
     "input": [
      "# Get the ordinate of the circle's centre\n",
      "circle.centre.y"
     ],
     "language": "python",
     "metadata": {},
     "outputs": []
    },
    {
     "cell_type": "code",
     "collapsed": false,
     "input": [
      "circle.radius"
     ],
     "language": "python",
     "metadata": {},
     "outputs": []
    },
    {
     "cell_type": "code",
     "collapsed": false,
     "input": [
      "# Define Rectangle to be a sub-type of the abstract Shape type\n",
      "type Rectangle <: Shape\n",
      "    ll::Point # Lower left vertex of rectangle is of type Point\n",
      "    ur::Point # Upper right vertex of rectangle is of type Point\n",
      "end"
     ],
     "language": "python",
     "metadata": {},
     "outputs": []
    },
    {
     "cell_type": "code",
     "collapsed": false,
     "input": [
      "# Construct the rectangle with lower left vertex (0.0, 0.0) and upper right vertex (2.0, 1.0)\n",
      "rectangle = Rectangle(Point(0.0, 0.0), Point(2.0, 1.0))"
     ],
     "language": "python",
     "metadata": {},
     "outputs": []
    },
    {
     "cell_type": "code",
     "collapsed": false,
     "input": [
      "# Get the ordinate of the rectangle's lower left vertex\n",
      "rectangle.ll.y"
     ],
     "language": "python",
     "metadata": {},
     "outputs": []
    },
    {
     "cell_type": "heading",
     "level": 2,
     "metadata": {},
     "source": [
      "Parametric Composite Types"
     ]
    },
    {
     "cell_type": "code",
     "collapsed": false,
     "input": [
      "# Define parametric composite type Point with fields the point coordinates x and y and type parameter T\n",
      "type ParametricPoint{T}\n",
      "  x::T\n",
      "  y::T\n",
      "end"
     ],
     "language": "python",
     "metadata": {},
     "outputs": []
    },
    {
     "cell_type": "code",
     "collapsed": false,
     "input": [
      "# Assign the point Point(1.0, 2.0) to p\n",
      "p = ParametricPoint(1.0, 2.0)"
     ],
     "language": "python",
     "metadata": {},
     "outputs": []
    },
    {
     "cell_type": "code",
     "collapsed": false,
     "input": [
      "# p is of type ParametricPoint{Float64}\n",
      "typeof(p)"
     ],
     "language": "python",
     "metadata": {},
     "outputs": []
    },
    {
     "cell_type": "code",
     "collapsed": false,
     "input": [
      "# Assign the point Point(1, 2) to p\n",
      "p = ParametricPoint(1, 2)"
     ],
     "language": "python",
     "metadata": {},
     "outputs": []
    },
    {
     "cell_type": "code",
     "collapsed": false,
     "input": [
      "# p is of type ParametricPoint{Int64}\n",
      "typeof(p)"
     ],
     "language": "python",
     "metadata": {},
     "outputs": []
    },
    {
     "cell_type": "code",
     "collapsed": false,
     "input": [
      "# Assign the point Point(1, 2) to p specifying explicitly the type parameter as Float64\n",
      "p = ParametricPoint{Float64}(1, 2)"
     ],
     "language": "python",
     "metadata": {},
     "outputs": []
    },
    {
     "cell_type": "code",
     "collapsed": false,
     "input": [
      "# p is of type ParametricPoint{Float64}\n",
      "typeof(p)"
     ],
     "language": "python",
     "metadata": {},
     "outputs": []
    }
   ],
   "metadata": {}
  }
 ]
}