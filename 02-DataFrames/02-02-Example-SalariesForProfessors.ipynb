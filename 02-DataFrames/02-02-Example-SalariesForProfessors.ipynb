{
 "cells": [
  {
   "cell_type": "markdown",
   "metadata": {
    "collapsed": true
   },
   "source": [
    "# Example 02-02: Salaries for Professors"
   ]
  },
  {
   "cell_type": "markdown",
   "metadata": {},
   "source": [
    "[R documentation](http://finzi.psych.upenn.edu/R/library/car/html/Salaries.html)"
   ]
  },
  {
   "cell_type": "code",
   "execution_count": null,
   "metadata": {
    "collapsed": true
   },
   "outputs": [],
   "source": [
    "using DataFramesMeta\n",
    "using Gadfly\n",
    "using KernelDensity\n",
    "using RDatasets"
   ]
  },
  {
   "cell_type": "markdown",
   "metadata": {},
   "source": [
    "## Exploring contents of RDatasets package"
   ]
  },
  {
   "cell_type": "code",
   "execution_count": null,
   "metadata": {
    "collapsed": false
   },
   "outputs": [],
   "source": [
    "RDatasets.packages()"
   ]
  },
  {
   "cell_type": "code",
   "execution_count": null,
   "metadata": {
    "collapsed": false
   },
   "outputs": [],
   "source": [
    "RDatasets.datasets()"
   ]
  },
  {
   "cell_type": "code",
   "execution_count": null,
   "metadata": {
    "collapsed": false
   },
   "outputs": [],
   "source": [
    "RDatasets.datasets(\"car\")"
   ]
  },
  {
   "cell_type": "code",
   "execution_count": null,
   "metadata": {
    "collapsed": false
   },
   "outputs": [],
   "source": [
    "@where(RDatasets.datasets(), :Package .== \"car\")"
   ]
  },
  {
   "cell_type": "code",
   "execution_count": null,
   "metadata": {
    "collapsed": false
   },
   "outputs": [],
   "source": [
    "@where(RDatasets.datasets(), :Package .== \"car\", :Dataset .== \"Salaries\")"
   ]
  },
  {
   "cell_type": "markdown",
   "metadata": {},
   "source": [
    "## Loading a datasets from RDatasets"
   ]
  },
  {
   "cell_type": "code",
   "execution_count": null,
   "metadata": {
    "collapsed": false
   },
   "outputs": [],
   "source": [
    "SalariesFrame = dataset(\"car\", \"Salaries\")"
   ]
  },
  {
   "cell_type": "markdown",
   "metadata": {},
   "source": [
    "## Getting basic information about a DataFrame"
   ]
  },
  {
   "cell_type": "code",
   "execution_count": null,
   "metadata": {
    "collapsed": false
   },
   "outputs": [],
   "source": [
    "size(SalariesFrame)"
   ]
  },
  {
   "cell_type": "code",
   "execution_count": null,
   "metadata": {
    "collapsed": false
   },
   "outputs": [],
   "source": [
    "names(SalariesFrame)"
   ]
  },
  {
   "cell_type": "code",
   "execution_count": null,
   "metadata": {
    "collapsed": false
   },
   "outputs": [],
   "source": [
    "head(SalariesFrame, 10)"
   ]
  },
  {
   "cell_type": "code",
   "execution_count": null,
   "metadata": {
    "collapsed": false
   },
   "outputs": [],
   "source": [
    "tail(SalariesFrame)"
   ]
  },
  {
   "cell_type": "code",
   "execution_count": null,
   "metadata": {
    "collapsed": false
   },
   "outputs": [],
   "source": [
    "describe(SalariesFrame)"
   ]
  },
  {
   "cell_type": "markdown",
   "metadata": {},
   "source": [
    "## Basic manipulation of a DataFrame"
   ]
  },
  {
   "cell_type": "code",
   "execution_count": null,
   "metadata": {
    "collapsed": false
   },
   "outputs": [],
   "source": [
    "sort!(SalariesFrame, cols=[:YrsService, :YrsSincePhD])"
   ]
  },
  {
   "cell_type": "code",
   "execution_count": null,
   "metadata": {
    "collapsed": false
   },
   "outputs": [],
   "source": [
    "# pool!(SalariesFrame, [:Discipline, :Sex])"
   ]
  },
  {
   "cell_type": "code",
   "execution_count": null,
   "metadata": {
    "collapsed": false
   },
   "outputs": [],
   "source": [
    "levels(SalariesFrame[:Sex])"
   ]
  },
  {
   "cell_type": "markdown",
   "metadata": {
    "collapsed": true
   },
   "source": [
    "## Exploratory statistical analysis of professorial salaries"
   ]
  },
  {
   "cell_type": "code",
   "execution_count": null,
   "metadata": {
    "collapsed": false
   },
   "outputs": [],
   "source": [
    "by(SalariesFrame, :Rank) do df\n",
    "  DataFrame(\n",
    "    n = length(df[:Salary]),\n",
    "    mean = round(mean(df[:Salary]), 3),\n",
    "    std = round(std(df[:Salary]), 3)\n",
    "  )\n",
    "end"
   ]
  },
  {
   "cell_type": "code",
   "execution_count": null,
   "metadata": {
    "collapsed": false
   },
   "outputs": [],
   "source": [
    "by(SalariesFrame, :Discipline) do df\n",
    "  DataFrame(\n",
    "    n = length(df[:Salary]),\n",
    "    mean = round(mean(df[:Salary]), 3),\n",
    "    std = round(std(df[:Salary]), 3)\n",
    "  )\n",
    "end"
   ]
  },
  {
   "cell_type": "code",
   "execution_count": null,
   "metadata": {
    "collapsed": false
   },
   "outputs": [],
   "source": [
    "by(SalariesFrame, :Sex) do df\n",
    "  DataFrame(\n",
    "    n = length(df[:Salary]),\n",
    "    mean = round(mean(df[:Salary]), 3),\n",
    "    std = round(std(df[:Salary]), 3)\n",
    "  )\n",
    "end"
   ]
  },
  {
   "cell_type": "code",
   "execution_count": null,
   "metadata": {
    "collapsed": false
   },
   "outputs": [],
   "source": [
    "by(SalariesFrame, [:Rank, :Discipline]) do df\n",
    "  DataFrame(\n",
    "    n = length(df[:Salary]),\n",
    "    mean = round(mean(df[:Salary]), 3),\n",
    "    std = round(std(df[:Salary]), 3)\n",
    "  )\n",
    "end"
   ]
  },
  {
   "cell_type": "code",
   "execution_count": null,
   "metadata": {
    "collapsed": false
   },
   "outputs": [],
   "source": [
    "by(SalariesFrame, [:Rank, :Sex]) do df\n",
    "  DataFrame(\n",
    "    n = length(df[:Salary]),\n",
    "    mean = round(mean(df[:Salary]), 3),\n",
    "    std = round(std(df[:Salary]), 3)\n",
    "  )\n",
    "end"
   ]
  },
  {
   "cell_type": "code",
   "execution_count": null,
   "metadata": {
    "collapsed": false
   },
   "outputs": [],
   "source": [
    "by(SalariesFrame, [:Discipline, :Sex]) do df\n",
    "  DataFrame(\n",
    "    n = length(df[:Salary]),\n",
    "    mean = round(mean(df[:Salary]), 3),\n",
    "    std = round(std(df[:Salary]), 3)\n",
    "  )\n",
    "end"
   ]
  },
  {
   "cell_type": "code",
   "execution_count": null,
   "metadata": {
    "collapsed": false
   },
   "outputs": [],
   "source": [
    "by(SalariesFrame, [:Rank, :Discipline, :Sex]) do df\n",
    "  DataFrame(\n",
    "    n = length(df[:Salary]),\n",
    "    mean = round(mean(df[:Salary]), 3),\n",
    "    std = round(std(df[:Salary]), 3)\n",
    "  )\n",
    "end"
   ]
  },
  {
   "cell_type": "code",
   "execution_count": null,
   "metadata": {
    "collapsed": false
   },
   "outputs": [],
   "source": [
    "plot(SalariesFrame, x=\"Rank\", y=\"Salary\", Geom.boxplot)"
   ]
  },
  {
   "cell_type": "code",
   "execution_count": null,
   "metadata": {
    "collapsed": false
   },
   "outputs": [],
   "source": [
    "plot(SalariesFrame, x=\"Discipline\", y=\"Salary\", Geom.boxplot)"
   ]
  },
  {
   "cell_type": "code",
   "execution_count": null,
   "metadata": {
    "collapsed": false
   },
   "outputs": [],
   "source": [
    "plot(SalariesFrame, x=\"Sex\", y=\"Salary\", Geom.boxplot)"
   ]
  },
  {
   "cell_type": "code",
   "execution_count": null,
   "metadata": {
    "collapsed": false
   },
   "outputs": [],
   "source": [
    "hstack(\n",
    "  plot(SalariesFrame, x=\"Rank\", y=\"Salary\", Geom.boxplot),\n",
    "  plot(SalariesFrame, x=\"Discipline\", y=\"Salary\", Geom.boxplot),\n",
    "  plot(SalariesFrame, x=\"Sex\", y=\"Salary\", Geom.boxplot)\n",
    ")"
   ]
  },
  {
   "cell_type": "code",
   "execution_count": null,
   "metadata": {
    "collapsed": false
   },
   "outputs": [],
   "source": [
    "plot(SalariesFrame, x=\"YrsSincePhD\", y=\"Salary\")"
   ]
  },
  {
   "cell_type": "code",
   "execution_count": null,
   "metadata": {
    "collapsed": false
   },
   "outputs": [],
   "source": [
    "plot(SalariesFrame, x=\"YrsService\", y=\"Salary\")"
   ]
  },
  {
   "cell_type": "code",
   "execution_count": null,
   "metadata": {
    "collapsed": false
   },
   "outputs": [],
   "source": [
    "plot(SalariesFrame, x=\"YrsSincePhD\", y=\"Salary\", color=\"Rank\")"
   ]
  },
  {
   "cell_type": "code",
   "execution_count": null,
   "metadata": {
    "collapsed": false
   },
   "outputs": [],
   "source": [
    "plot(SalariesFrame, x=\"YrsService\", y=\"Salary\", color=\"Rank\")"
   ]
  },
  {
   "cell_type": "code",
   "execution_count": null,
   "metadata": {
    "collapsed": false
   },
   "outputs": [],
   "source": [
    "plot(SalariesFrame, x=\"YrsSincePhD\", y=\"Salary\", color=\"Discipline\")"
   ]
  },
  {
   "cell_type": "code",
   "execution_count": null,
   "metadata": {
    "collapsed": false
   },
   "outputs": [],
   "source": [
    "plot(SalariesFrame, x=\"YrsService\", y=\"Salary\", color=\"Discipline\")"
   ]
  },
  {
   "cell_type": "code",
   "execution_count": null,
   "metadata": {
    "collapsed": false
   },
   "outputs": [],
   "source": [
    "plot(SalariesFrame, x=\"YrsSincePhD\", y=\"Salary\", color=\"Sex\")"
   ]
  },
  {
   "cell_type": "code",
   "execution_count": null,
   "metadata": {
    "collapsed": false
   },
   "outputs": [],
   "source": [
    "plot(SalariesFrame, x=\"YrsService\", y=\"Salary\", color=\"Sex\")"
   ]
  },
  {
   "cell_type": "code",
   "execution_count": null,
   "metadata": {
    "collapsed": false
   },
   "outputs": [],
   "source": [
    "plot(SalariesFrame, x=\"Salary\", Geom.histogram(bincount=50, density=true))"
   ]
  },
  {
   "cell_type": "code",
   "execution_count": null,
   "metadata": {
    "collapsed": false
   },
   "outputs": [],
   "source": [
    "salaries = kde(SalariesFrame[:Salary])\n",
    "\n",
    "plot(\n",
    "  x=salaries.x,\n",
    "  y=salaries.density,\n",
    "  Geom.line,\n",
    "  Guide.xlabel(\"Salary\"),\n",
    "  Guide.ylabel(\"\"),\n",
    "  Guide.title(\"Kernel density estimator\")\n",
    ")"
   ]
  },
  {
   "cell_type": "code",
   "execution_count": null,
   "metadata": {
    "collapsed": false
   },
   "outputs": [],
   "source": [
    "plot(SalariesFrame, x=\"Salary\", color=\"Discipline\", Geom.histogram(bincount=50, density=true))"
   ]
  },
  {
   "cell_type": "code",
   "execution_count": null,
   "metadata": {
    "collapsed": false
   },
   "outputs": [],
   "source": [
    "plot(SalariesFrame, x=\"Salary\", color=\"Rank\", Geom.histogram(bincount=50, density=true))"
   ]
  },
  {
   "cell_type": "code",
   "execution_count": null,
   "metadata": {
    "collapsed": false
   },
   "outputs": [],
   "source": [
    "kdes = [kde(@where(SalariesFrame, :Rank .== l)[:Salary]) for l in levels(SalariesFrame[:Rank])]"
   ]
  },
  {
   "cell_type": "code",
   "execution_count": null,
   "metadata": {
    "collapsed": false
   },
   "outputs": [],
   "source": [
    "plot(\n",
    "layer(x=kdes[1].x, y=kdes[1].density, Geom.line, Theme(default_color=colorant\"blue\")),\n",
    "layer(x=kdes[2].x, y=kdes[2].density, Geom.line, Theme(default_color=colorant\"red\")),\n",
    "layer(x=kdes[3].x, y=kdes[3].density, Geom.line, Theme(default_color=colorant\"green\")),\n",
    "Guide.manual_color_key(\"Rank\", [\"AsstProf\", \"AssocProf\", \"Prof\"], [\"blue\", \"red\", \"green\"]),\n",
    "Guide.xlabel(\"Salary\"), Guide.ylabel(\"\"), Guide.title(\"Kernel density estimators\")\n",
    ")"
   ]
  },
  {
   "cell_type": "code",
   "execution_count": null,
   "metadata": {
    "collapsed": false
   },
   "outputs": [],
   "source": [
    "plot(SalariesFrame, x=\"YrsService\", y=\"Salary\", Geom.histogram2d(xbincount=30, ybincount=30))"
   ]
  }
 ],
 "metadata": {
  "kernelspec": {
   "display_name": "Julia 0.5.0",
   "language": "julia",
   "name": "julia-0.5"
  },
  "language_info": {
   "file_extension": ".jl",
   "mimetype": "application/julia",
   "name": "julia",
   "version": "0.5.0"
  }
 },
 "nbformat": 4,
 "nbformat_minor": 0
}
