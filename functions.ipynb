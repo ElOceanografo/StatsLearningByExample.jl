{
 "metadata": {
  "language": "Julia",
  "name": ""
 },
 "nbformat": 3,
 "nbformat_minor": 0,
 "worksheets": [
  {
   "cells": [
    {
     "cell_type": "heading",
     "level": 1,
     "metadata": {},
     "source": [
      "Functions"
     ]
    },
    {
     "cell_type": "heading",
     "level": 2,
     "metadata": {},
     "source": [
      "Follow-Up Example Using User-Defined Shape Types"
     ]
    },
    {
     "cell_type": "code",
     "collapsed": false,
     "input": [
      "abstract Shape\n",
      "abstract ConicSection <: Shape"
     ],
     "language": "python",
     "metadata": {},
     "outputs": []
    },
    {
     "cell_type": "code",
     "collapsed": false,
     "input": [
      "type Point{T}\n",
      "  x::T\n",
      "  y::T\n",
      "end"
     ],
     "language": "python",
     "metadata": {},
     "outputs": []
    },
    {
     "cell_type": "code",
     "collapsed": false,
     "input": [
      "type Circle{T} <: ConicSection\n",
      "  centre::Point{T} # Circle center is of type Point{T}\n",
      "  radius::T # Circle radius is of type T\n",
      "end"
     ],
     "language": "python",
     "metadata": {},
     "outputs": []
    },
    {
     "cell_type": "code",
     "collapsed": false,
     "input": [
      "# Define Rectangle to be a sub-type of the abstract Shape type\n",
      "type Rectangle{T} <: Shape\n",
      "  ll::Point{T} # Lower left vertex of rectangle is of type Point{T}\n",
      "  ur::Point{T} # Upper right vertex of rectangle is of type Point{T}\n",
      "end"
     ],
     "language": "python",
     "metadata": {},
     "outputs": []
    },
    {
     "cell_type": "code",
     "collapsed": false,
     "input": [
      "# Construct the circle with centre (0.0, 0.0) and radius 2\n",
      "circle = Circle(Point(0.0, 0.0), 2.0)"
     ],
     "language": "python",
     "metadata": {},
     "outputs": []
    },
    {
     "cell_type": "code",
     "collapsed": false,
     "input": [
      "# Construct the rectangle with lower left vertex (0.0, 0.0) and upper right vertex (2.0, 1.0)\n",
      "rectangle = Rectangle(Point(0.0, 0.0), Point(2.0, 1.0))"
     ],
     "language": "python",
     "metadata": {},
     "outputs": []
    },
    {
     "cell_type": "heading",
     "level": 2,
     "metadata": {},
     "source": [
      "Defining Functions (Methods)"
     ]
    },
    {
     "cell_type": "code",
     "collapsed": false,
     "input": [
      "# Define the area function for Circle arguments, giving the circle's area\n",
      "function area(shape::Circle)\n",
      "  pi*abs2(circle.radius)\n",
      "end"
     ],
     "language": "python",
     "metadata": {},
     "outputs": []
    },
    {
     "cell_type": "code",
     "collapsed": false,
     "input": [
      "area(circle)"
     ],
     "language": "python",
     "metadata": {},
     "outputs": []
    },
    {
     "cell_type": "code",
     "collapsed": false,
     "input": [
      "# A more succinct idiom for defining the area function for Circle arguments\n",
      "area(shape::Circle) = pi*abs2(circle.radius)"
     ],
     "language": "python",
     "metadata": {},
     "outputs": []
    },
    {
     "cell_type": "code",
     "collapsed": false,
     "input": [
      "area(circle)"
     ],
     "language": "python",
     "metadata": {},
     "outputs": []
    },
    {
     "cell_type": "heading",
     "level": 2,
     "metadata": {},
     "source": [
      "Multiple Dispatch"
     ]
    },
    {
     "cell_type": "code",
     "collapsed": false,
     "input": [
      "# Define the area function for Rectangle arguments\n",
      "# The name function is the same for different input arguments\n",
      "# This is called multiple dispatch\n",
      "area(shape::Rectangle) = abs(shape.ll.y-shape.ur.y)*abs(shape.ll.x-shape.ur.x)"
     ],
     "language": "python",
     "metadata": {},
     "outputs": []
    },
    {
     "cell_type": "code",
     "collapsed": false,
     "input": [
      "area(rectangle)"
     ],
     "language": "python",
     "metadata": {},
     "outputs": []
    },
    {
     "cell_type": "heading",
     "level": 2,
     "metadata": {},
     "source": [
      "Parametric Functions and Type Inference on Input Arguments"
     ]
    },
    {
     "cell_type": "code",
     "collapsed": false,
     "input": [
      "# resize function returns a new circle with the same centre and radius rescaled by some coefficient c \n",
      "resize(shape::Circle, c) = Circle(shape.centre, c*shape.radius)"
     ],
     "language": "python",
     "metadata": {},
     "outputs": []
    },
    {
     "cell_type": "code",
     "collapsed": false,
     "input": [
      "# Resize circle by halving its radius\n",
      "resize(circle, 0.5)"
     ],
     "language": "python",
     "metadata": {},
     "outputs": []
    },
    {
     "cell_type": "code",
     "collapsed": false,
     "input": [
      "# The type of c was previously omitted\n",
      "# It is now stated explicitly that c is of type Float64\n",
      "resize(shape::Circle, c::Float64) = Circle(shape.centre, c*shape.radius)"
     ],
     "language": "python",
     "metadata": {},
     "outputs": []
    },
    {
     "cell_type": "code",
     "collapsed": false,
     "input": [
      "# Resize circle by halving its radius using the redefined resize function\n",
      "resize(circle, 0.5)"
     ],
     "language": "python",
     "metadata": {},
     "outputs": []
    },
    {
     "cell_type": "code",
     "collapsed": false,
     "input": [
      "# Now resize is a parametric function with type parameter T shared between its input arguments\n",
      "resize{T}(shape::Circle{T}, c::T) = Circle(shape.centre, c*shape.radius)"
     ],
     "language": "python",
     "metadata": {},
     "outputs": []
    },
    {
     "cell_type": "code",
     "collapsed": false,
     "input": [
      "# Resize circle by halving its radius using the redefined resize function\n",
      "resize(circle, 0.5)"
     ],
     "language": "python",
     "metadata": {},
     "outputs": []
    },
    {
     "cell_type": "heading",
     "level": 2,
     "metadata": {},
     "source": [
      "Optional Arguments"
     ]
    },
    {
     "cell_type": "code",
     "collapsed": false,
     "input": [
      "# Provide the scaling factor c as an optional argument\n",
      "# The default value of c is set to return a circle of radius 1\n",
      "resize(shape::Circle, c=1/shape.radius) = Circle(shape.centre, c*shape.radius)"
     ],
     "language": "python",
     "metadata": {},
     "outputs": []
    },
    {
     "cell_type": "code",
     "collapsed": false,
     "input": [
      "# Call resize with one argument (the second argument takes its default value)\n",
      "resize(circle)"
     ],
     "language": "python",
     "metadata": {},
     "outputs": []
    },
    {
     "cell_type": "heading",
     "level": 2,
     "metadata": {},
     "source": [
      "Named Arguments"
     ]
    },
    {
     "cell_type": "code",
     "collapsed": false,
     "input": [
      "# Provide the scaling factor as the named argument \"scaling\"\n",
      "# The default value of \"scaling\" is set to return a circle of radius 1\n",
      "resize(shape::Circle; scaling=1/shape.radius) = Circle(shape.centre, scaling*shape.radius)"
     ],
     "language": "python",
     "metadata": {},
     "outputs": []
    },
    {
     "cell_type": "code",
     "collapsed": false,
     "input": [
      "# Call resize with scaling=2\n",
      "resize(circle, scaling=2)"
     ],
     "language": "python",
     "metadata": {},
     "outputs": []
    },
    {
     "cell_type": "heading",
     "level": 2,
     "metadata": {},
     "source": [
      "Functions Changing Their Input"
     ]
    },
    {
     "cell_type": "code",
     "collapsed": false,
     "input": [
      "# resize! is defined in Base already, so import it to extend it\n",
      "import Base.resize!\n",
      "\n",
      "# resize function returns a new circle with the same centre and radius rescaled by some coefficient c\n",
      "# Names of functions changing their input are conventionally suffixed by \"!\"\n",
      "function resize!(shape::Circle, c)\n",
      "  shape.radius = c*shape.radius\n",
      "  shape\n",
      "end"
     ],
     "language": "python",
     "metadata": {},
     "outputs": []
    },
    {
     "cell_type": "code",
     "collapsed": false,
     "input": [
      "resize!(circle, 0.5);\n",
      "circle"
     ],
     "language": "python",
     "metadata": {},
     "outputs": []
    },
    {
     "cell_type": "heading",
     "level": 2,
     "metadata": {},
     "source": [
      "Inner Constructors"
     ]
    },
    {
     "cell_type": "code",
     "collapsed": false,
     "input": [
      "# It is possible to call the default Circle constructor with a negative radius\n",
      "Circle(Point(0.0, 0.0), -1.0)"
     ],
     "language": "python",
     "metadata": {},
     "outputs": []
    },
    {
     "cell_type": "code",
     "collapsed": false,
     "input": [
      "# This is one way of prohibiting negative radius\n",
      "type CircleWithCheck{T} <: ConicSection\n",
      "  centre::Point{T} # Circle center is of type Point{T}\n",
      "  radius::T # Circle radius is of type T\n",
      "    \n",
      "    function CircleWitchCheck{T}(c::Point{T}, r::T)\n",
      "      radius > zero(radius) || error(\"Circle radius must be positive.\")\n",
      "      new(CircleWitchCheck(c, r))\n",
      "    end\n",
      "end"
     ],
     "language": "python",
     "metadata": {},
     "outputs": []
    },
    {
     "cell_type": "code",
     "collapsed": false,
     "input": [
      "# Passing a negative radius to the new constructor throws an error\n",
      "try:\n",
      "  CircleWithCheck(Point(0.0, 0.0), -1.0)\n",
      "catch e\n",
      "  println(e)\n",
      "end"
     ],
     "language": "python",
     "metadata": {},
     "outputs": []
    },
    {
     "cell_type": "heading",
     "level": 2,
     "metadata": {},
     "source": [
      "Outer Constructors"
     ]
    },
    {
     "cell_type": "code",
     "collapsed": false,
     "input": [
      "# Constructors can be provided outside the type definition\n",
      "# The following constructor facilitates defining a unit circle with fewer arguments\n",
      "Circle() = Circle(Point(0.0, 0.0), 1.0)"
     ],
     "language": "python",
     "metadata": {},
     "outputs": []
    },
    {
     "cell_type": "code",
     "collapsed": false,
     "input": [
      "# Call the outer constructor to define a unit circle\n",
      "Circle()"
     ],
     "language": "python",
     "metadata": {},
     "outputs": []
    }
   ],
   "metadata": {}
  }
 ]
}