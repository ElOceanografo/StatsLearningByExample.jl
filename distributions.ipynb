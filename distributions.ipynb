{
 "metadata": {
  "language": "Julia",
  "name": ""
 },
 "nbformat": 3,
 "nbformat_minor": 0,
 "worksheets": [
  {
   "cells": [
    {
     "cell_type": "heading",
     "level": 1,
     "metadata": {},
     "source": [
      "Distributions"
     ]
    },
    {
     "cell_type": "markdown",
     "metadata": {},
     "source": [
      "A unified interface allows common queries on distributions. The elementary examples below illustrate usage."
     ]
    },
    {
     "cell_type": "heading",
     "level": 2,
     "metadata": {},
     "source": [
      "Installation and Loading"
     ]
    },
    {
     "cell_type": "code",
     "collapsed": false,
     "input": [
      "# Update packages\n",
      "Pkg.update()"
     ],
     "language": "python",
     "metadata": {},
     "outputs": []
    },
    {
     "cell_type": "code",
     "collapsed": false,
     "input": [
      "# Install Distributions package\n",
      "Pkg.add(\"Distributions\")"
     ],
     "language": "python",
     "metadata": {},
     "outputs": []
    },
    {
     "cell_type": "code",
     "collapsed": false,
     "input": [
      "# Load Distributions package\n",
      "using Distributions"
     ],
     "language": "python",
     "metadata": {},
     "outputs": []
    },
    {
     "cell_type": "heading",
     "level": 2,
     "metadata": {},
     "source": [
      "Example 1: Univariate Normal"
     ]
    },
    {
     "cell_type": "code",
     "collapsed": false,
     "input": [
      "# Define a standard normal distribution\n",
      "d = Normal()"
     ],
     "language": "python",
     "metadata": {},
     "outputs": []
    },
    {
     "cell_type": "code",
     "collapsed": false,
     "input": [
      "# Draw 3 i.i.d samples from Normal(0, 1)\n",
      "rand(d, 3)"
     ],
     "language": "python",
     "metadata": {},
     "outputs": []
    },
    {
     "cell_type": "code",
     "collapsed": false,
     "input": [
      "# Get the mean of distribution d\n",
      "mean(d)"
     ],
     "language": "python",
     "metadata": {},
     "outputs": []
    },
    {
     "cell_type": "code",
     "collapsed": false,
     "input": [
      "# Get the variance of distribution d\n",
      "var(d)"
     ],
     "language": "python",
     "metadata": {},
     "outputs": []
    },
    {
     "cell_type": "code",
     "collapsed": false,
     "input": [
      "# Get the standard deviation of distribution d\n",
      "std(d)"
     ],
     "language": "python",
     "metadata": {},
     "outputs": []
    },
    {
     "cell_type": "code",
     "collapsed": false,
     "input": [
      "x = 3.2"
     ],
     "language": "python",
     "metadata": {},
     "outputs": []
    },
    {
     "cell_type": "code",
     "collapsed": false,
     "input": [
      "# Compute the pdf of d at x\n",
      "pdf(d, x)"
     ],
     "language": "python",
     "metadata": {},
     "outputs": []
    },
    {
     "cell_type": "code",
     "collapsed": false,
     "input": [
      "# Compute the log-pdf of d at x\n",
      "logpdf(d, x)"
     ],
     "language": "python",
     "metadata": {},
     "outputs": []
    },
    {
     "cell_type": "code",
     "collapsed": false,
     "input": [
      "# Compute the gradient of the log-pdf of d at x\n",
      "gradlogpdf(d, x)"
     ],
     "language": "python",
     "metadata": {},
     "outputs": []
    },
    {
     "cell_type": "code",
     "collapsed": false,
     "input": [
      "# Compute the cdf of d at x\n",
      "cdf(d, x)"
     ],
     "language": "python",
     "metadata": {},
     "outputs": []
    },
    {
     "cell_type": "code",
     "collapsed": false,
     "input": [
      "# Compute the log-cdf of d at x\n",
      "logcdf(d, x)"
     ],
     "language": "python",
     "metadata": {},
     "outputs": []
    },
    {
     "cell_type": "code",
     "collapsed": false,
     "input": [
      "# Get the 0.95 quantile of d\n",
      "quantile(d, 0.95)"
     ],
     "language": "python",
     "metadata": {},
     "outputs": []
    },
    {
     "cell_type": "code",
     "collapsed": false,
     "input": [
      "# Compute the moment generating function of d at time t = 1.0\n",
      "mgf(d, 1.0)"
     ],
     "language": "python",
     "metadata": {},
     "outputs": []
    },
    {
     "cell_type": "heading",
     "level": 2,
     "metadata": {},
     "source": [
      "Example 2: Multivariate Normal"
     ]
    },
    {
     "cell_type": "code",
     "collapsed": false,
     "input": [
      "\u03bc, \u03a3 = ones(2), [1 0.1; 0.1 1]"
     ],
     "language": "python",
     "metadata": {},
     "outputs": []
    },
    {
     "cell_type": "code",
     "collapsed": false,
     "input": [
      "d = MvNormal(\u03bc, \u03a3)"
     ],
     "language": "python",
     "metadata": {},
     "outputs": []
    },
    {
     "cell_type": "code",
     "collapsed": false,
     "input": [
      "rand(d, 3)"
     ],
     "language": "python",
     "metadata": {},
     "outputs": []
    },
    {
     "cell_type": "code",
     "collapsed": false,
     "input": [
      "x = [1.5, 3.2]"
     ],
     "language": "python",
     "metadata": {},
     "outputs": []
    },
    {
     "cell_type": "code",
     "collapsed": false,
     "input": [
      "mean(d)"
     ],
     "language": "python",
     "metadata": {},
     "outputs": []
    },
    {
     "cell_type": "code",
     "collapsed": false,
     "input": [
      "pdf(d, x)"
     ],
     "language": "python",
     "metadata": {},
     "outputs": []
    },
    {
     "cell_type": "heading",
     "level": 2,
     "metadata": {},
     "source": [
      "Other Distributions Supported"
     ]
    },
    {
     "cell_type": "markdown",
     "metadata": {},
     "source": [
      "- univariate\n",
      " - continuous\n",
      "   - arcsine\n",
      "   - beta\n",
      "   - beta prime\n",
      "   - Cauchy\n",
      "   - chi\n",
      "   - chi-square\n",
      "   - cosine\n",
      "   - Edgeworth\n",
      "   - empirical\n",
      "   - Erlang\n",
      "   - exponential\n",
      "   - F\n",
      "   - Frechet\n",
      "   - gamma\n",
      "   - Gumbel\n",
      "   - Inverse gamma\n",
      "   - Inverse Gaussian\n",
      "   - Kolmogorov\n",
      "   - distribution of the one-sided and of the two-sided Kolmogorov-Smirnoff statistic\n",
      "   - Laplace\n",
      "   - Levy\n",
      "   - logistic\n",
      "   - lognormal\n",
      "   - non-central beta\n",
      "   - non-central chi-square\n",
      "   - non-central F-distribution\n",
      "   - non-central t-distribution\n",
      "   - normal\n",
      "   - canonical form of nomral distribution\n",
      "   - Pareto\n",
      "   - Rayleigh\n",
      "   - Symmetric triangular\n",
      "   - t-distribution\n",
      "   - uniform\n",
      "   - von Mises\n",
      "   - Weibull\n",
      " - discrete\n",
      "   - Bernoulli\n",
      "   - binomial\n",
      "   - categorical\n",
      "   - discrete uniform\n",
      "   - geometric\n",
      "   - hypergeometric\n",
      "   - negative binomial\n",
      "   - non-central hypergeometric\n",
      "   - Poisson\n",
      "   - Skellam\n",
      "- multivariate\n",
      "  - continuous\n",
      "    - Dirichlet\n",
      "    - multivariate normal\n",
      "    - canonical form of multivariate normal\n",
      "    - multivariate t-distribution\n",
      "    - Von-Mises Fisher\n",
      "  - discrete\n",
      "    - multinomial"
     ]
    }
   ],
   "metadata": {}
  }
 ]
}