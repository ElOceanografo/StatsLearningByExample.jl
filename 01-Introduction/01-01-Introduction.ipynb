{
 "cells": [
  {
   "cell_type": "markdown",
   "metadata": {},
   "source": [
    "# Some Advantageous Julia Features"
   ]
  },
  {
   "cell_type": "markdown",
   "metadata": {},
   "source": [
    "Julia is a valuable programming language for a number of reasons, including:\n",
    "- performance (usually within a factor of two of C code),\n",
    "- ease of programming providing a high-level syntax,\n",
    "- carefully designed numerical accuracy,\n",
    "- integration of mature C and Fortran libraries for linear algebra,\n",
    "- bindings for a range of mature libraries such as GSL, NLopt, Sundials and MPI,\n",
    "- a message passing implementation for parallel and distributed computation,\n",
    "- ability to call C functions directly without needing wrappers,\n",
    "- ability to call Python functions,\n",
    "- a built-in git-based package manager,\n",
    "- centralized package ecosystem,\n",
    "- an active community that reviews and improves the code base and contributes packages,\n",
    "- free usage (MIT licensed)."
   ]
  },
  {
   "cell_type": "markdown",
   "metadata": {},
   "source": [
    "# How to Get Started with Julia"
   ]
  },
  {
   "cell_type": "markdown",
   "metadata": {},
   "source": [
    "There are various Julia environments to get started:\n",
    "- the REPL, a shell-alike interactive environment,\n",
    "- the command line; write your script using your favourite text editor and pass it to Julia as an argument (`julia script.jl arg1 arg2`),\n",
    "- [IJulia](https://github.com/JuliaLang/IJulia.jl), the browser-based graphical notebook interface to Julia,\n",
    "- [Sublime-IJulia](https://github.com/quinnj/Sublime-IJulia), a Julia plugin for Sublime,\n",
    "- [Julia-LT](https://github.com/one-more-minute/Julia-LT), a Julia plugin for Light Table."
   ]
  }
 ],
 "metadata": {
  "kernelspec": {
   "display_name": "Julia 0.4.5",
   "language": "julia",
   "name": "julia-0.4"
  },
  "language_info": {
   "file_extension": ".jl",
   "mimetype": "application/julia",
   "name": "julia",
   "version": "0.4.5"
  }
 },
 "nbformat": 4,
 "nbformat_minor": 0
}
