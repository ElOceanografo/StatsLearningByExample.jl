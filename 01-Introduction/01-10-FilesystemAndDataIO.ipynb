{
 "cells": [
  {
   "cell_type": "markdown",
   "metadata": {},
   "source": [
    "# Filesystem and Data I/O"
   ]
  },
  {
   "cell_type": "markdown",
   "metadata": {},
   "source": [
    "## Filesystem"
   ]
  },
  {
   "cell_type": "code",
   "execution_count": null,
   "metadata": {
    "collapsed": false
   },
   "outputs": [],
   "source": [
    "# Print working directory\n",
    "pwd()"
   ]
  },
  {
   "cell_type": "code",
   "execution_count": null,
   "metadata": {
    "collapsed": false
   },
   "outputs": [],
   "source": [
    "# Get the files and directories in the current directory\n",
    "readdir()"
   ]
  },
  {
   "cell_type": "code",
   "execution_count": null,
   "metadata": {
    "collapsed": false
   },
   "outputs": [],
   "source": [
    "# Get the home directory\n",
    "ENV[\"HOME\"]"
   ]
  },
  {
   "cell_type": "code",
   "execution_count": null,
   "metadata": {
    "collapsed": false
   },
   "outputs": [],
   "source": [
    "# Another way of getting the home directory\n",
    "homedir()"
   ]
  },
  {
   "cell_type": "code",
   "execution_count": null,
   "metadata": {
    "collapsed": false
   },
   "outputs": [],
   "source": [
    "# Create the path ~/tmp/julia\n",
    "JULIATMPDIR = joinpath(homedir(), \"tmp/julia\")"
   ]
  },
  {
   "cell_type": "code",
   "execution_count": null,
   "metadata": {
    "collapsed": false
   },
   "outputs": [],
   "source": [
    "# If ~/tmp/julia directory doesn't exist, then create it\n",
    "if !isdir(JULIATMPDIR)\n",
    "  mkpath(JULIATMPDIR)\n",
    "end"
   ]
  },
  {
   "cell_type": "code",
   "execution_count": null,
   "metadata": {
    "collapsed": false
   },
   "outputs": [],
   "source": [
    "# Create the directory ~/tmp/julia/dir01/dir02\n",
    "mkpath(joinpath(JULIATMPDIR, \"dir01/dir02\"))"
   ]
  },
  {
   "cell_type": "code",
   "execution_count": null,
   "metadata": {
    "collapsed": false
   },
   "outputs": [],
   "source": [
    "# Delete the directory ~/tmp/julia/dir01/dir02\n",
    "rm(joinpath(JULIATMPDIR, \"dir01\"), recursive=true)"
   ]
  },
  {
   "cell_type": "markdown",
   "metadata": {},
   "source": [
    "## Data I/O"
   ]
  },
  {
   "cell_type": "code",
   "execution_count": null,
   "metadata": {
    "collapsed": false
   },
   "outputs": [],
   "source": [
    "# Define a vector\n",
    "x = [2.5, 3.0, 1.0]"
   ]
  },
  {
   "cell_type": "code",
   "execution_count": null,
   "metadata": {
    "collapsed": false
   },
   "outputs": [],
   "source": [
    "# Write x to a file\n",
    "writedlm(joinpath(JULIATMPDIR, \"out01.txt\"), x, ' ')"
   ]
  },
  {
   "cell_type": "code",
   "execution_count": null,
   "metadata": {
    "collapsed": false
   },
   "outputs": [],
   "source": [
    "# Write x to a file line by line\n",
    "OUTFILE = joinpath(JULIATMPDIR, \"out02.txt\");\n",
    "\n",
    "outstream = open(OUTFILE, \"w+\");\n",
    "\n",
    "for i = 1:length(x)\n",
    "  @printf(outstream, \"%.f\\n\", x[i])\n",
    "end\n",
    "\n",
    "close(outstream)"
   ]
  },
  {
   "cell_type": "code",
   "execution_count": null,
   "metadata": {
    "collapsed": false
   },
   "outputs": [],
   "source": [
    "# Read a file into a vector\n",
    "y = readdlm(joinpath(JULIATMPDIR, \"out01.txt\"), ' ')"
   ]
  },
  {
   "cell_type": "code",
   "execution_count": null,
   "metadata": {
    "collapsed": false
   },
   "outputs": [],
   "source": [
    "# Read a file line by line\n",
    "instream = open(OUTFILE, \"r\");\n",
    "\n",
    "while !eof(instream)\n",
    "  println(float64(readline(instream)))\n",
    "end\n",
    "\n",
    "close(instream)"
   ]
  }
 ],
 "metadata": {
  "kernelspec": {
   "display_name": "Julia 0.4.5",
   "language": "julia",
   "name": "julia-0.4"
  }
 },
 "nbformat": 4,
 "nbformat_minor": 0
}
