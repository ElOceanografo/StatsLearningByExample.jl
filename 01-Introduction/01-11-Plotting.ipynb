{
 "cells": [
  {
   "cell_type": "markdown",
   "metadata": {},
   "source": [
    "# Plotting"
   ]
  },
  {
   "cell_type": "markdown",
   "metadata": {},
   "source": [
    "## Julia Packages for Plotting"
   ]
  },
  {
   "cell_type": "markdown",
   "metadata": {},
   "source": [
    "- [Gadfly](https://github.com/dcjones/Gadfly.jl),\n",
    "- [Winston](https://github.com/nolta/Winston.jl),\n",
    "- [Gaston](https://github.com/mbaz/Gaston.jl), gnuplot wrapper,\n",
    "- [PyPlot](https://github.com/stevengj/PyPlot.jl), interface to the Matplotlib plotting library from Python,\n",
    "- [Plotly](https://github.com/plotly/Plotly-Julia), interface to the plot.ly API,\n",
    "- [Vega](https://github.com/johnmyleswhite/Vega.jl), interface for Vega visualization."
   ]
  },
  {
   "cell_type": "markdown",
   "metadata": {},
   "source": [
    "## Gadfly Examples"
   ]
  },
  {
   "cell_type": "code",
   "execution_count": null,
   "metadata": {
    "collapsed": false
   },
   "outputs": [],
   "source": [
    "using Gadfly"
   ]
  },
  {
   "cell_type": "markdown",
   "metadata": {},
   "source": [
    "### Example 1: Generating a histogram for a sample from a Beta(0.5, 0.5) distribution"
   ]
  },
  {
   "cell_type": "code",
   "execution_count": null,
   "metadata": {
    "collapsed": false
   },
   "outputs": [],
   "source": [
    "using Distributions"
   ]
  },
  {
   "cell_type": "code",
   "execution_count": null,
   "metadata": {
    "collapsed": false
   },
   "outputs": [],
   "source": [
    "d = Beta(0.5, 0.5);\n",
    "data = rand(d, 1000);"
   ]
  },
  {
   "cell_type": "code",
   "execution_count": null,
   "metadata": {
    "collapsed": false
   },
   "outputs": [],
   "source": [
    "plot(x=data, Geom.histogram)"
   ]
  },
  {
   "cell_type": "markdown",
   "metadata": {},
   "source": [
    "### Example 2: Plotting overlayed paths of simulated Brownian motion"
   ]
  },
  {
   "cell_type": "code",
   "execution_count": null,
   "metadata": {
    "collapsed": false
   },
   "outputs": [],
   "source": [
    "using Brownian"
   ]
  },
  {
   "cell_type": "code",
   "execution_count": null,
   "metadata": {
    "collapsed": false
   },
   "outputs": [],
   "source": [
    "n = 500;\n",
    "timepoints = 0:10/n:100;\n",
    "processes = BrownianMotion(timepoints, 3);\n",
    "paths = rand(processes);"
   ]
  },
  {
   "cell_type": "code",
   "execution_count": null,
   "metadata": {
    "collapsed": false
   },
   "outputs": [],
   "source": [
    "set_default_plot_size(19cm, 8cm)"
   ]
  },
  {
   "cell_type": "code",
   "execution_count": null,
   "metadata": {
    "collapsed": false
   },
   "outputs": [],
   "source": [
    "plot(x=repeat(collect(timepoints), outer=[3]),\n",
    "  y=reshape(paths, size(paths, 2)*size(paths, 1), 1),\n",
    "  color=repeat([\"1\", \"2\", \"3\"], inner=[length(timepoints)]),\n",
    "  Scale.discrete_color_manual(\"red\",\"blue\", \"green\"),\n",
    "  Geom.line,\n",
    "  Guide.xlabel(\"Time points\"),\n",
    "  Guide.ylabel(\"\"),\n",
    "  Guide.title(\"Simulated Brownian paths\"),\n",
    "  Guide.colorkey(\"Paths\"))"
   ]
  }
 ],
 "metadata": {
  "kernelspec": {
   "display_name": "Julia 0.4.5",
   "language": "julia",
   "name": "julia-0.4"
  }
 },
 "nbformat": 4,
 "nbformat_minor": 0
}
