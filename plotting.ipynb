{
 "metadata": {
  "language": "Julia",
  "name": ""
 },
 "nbformat": 3,
 "nbformat_minor": 0,
 "worksheets": [
  {
   "cells": [
    {
     "cell_type": "heading",
     "level": 1,
     "metadata": {},
     "source": [
      "Plotting"
     ]
    },
    {
     "cell_type": "heading",
     "level": 2,
     "metadata": {},
     "source": [
      "Julia Packages for Plotting"
     ]
    },
    {
     "cell_type": "markdown",
     "metadata": {},
     "source": [
      "- [Gadfly](https://github.com/dcjones/Gadfly.jl),\n",
      "- [Winston](https://github.com/nolta/Winston.jl),\n",
      "- [Gaston](https://github.com/mbaz/Gaston.jl), gnuplot wrapper,\n",
      "- [PyPlot](https://github.com/stevengj/PyPlot.jl), interface to the Matplotlib plotting library from Python,\n",
      "- [Plotly](https://github.com/plotly/Plotly-Julia), interface to the plot.ly API,\n",
      "- [Vega](https://github.com/johnmyleswhite/Vega.jl), interface for Vega visualization."
     ]
    },
    {
     "cell_type": "heading",
     "level": 2,
     "metadata": {},
     "source": [
      "Gadfly Examples"
     ]
    },
    {
     "cell_type": "code",
     "collapsed": false,
     "input": [
      "using Gadfly"
     ],
     "language": "python",
     "metadata": {},
     "outputs": []
    },
    {
     "cell_type": "heading",
     "level": 3,
     "metadata": {},
     "source": [
      "Example 1: Generating a histogram for a sample from a Beta(0.5, 0.5) distribution"
     ]
    },
    {
     "cell_type": "code",
     "collapsed": false,
     "input": [
      "using Distributions"
     ],
     "language": "python",
     "metadata": {},
     "outputs": []
    },
    {
     "cell_type": "code",
     "collapsed": false,
     "input": [
      "d = Beta(0.5, 0.5);\n",
      "data = rand(d, 1000);"
     ],
     "language": "python",
     "metadata": {},
     "outputs": []
    },
    {
     "cell_type": "code",
     "collapsed": false,
     "input": [
      "plot(x=data, Geom.histogram)"
     ],
     "language": "python",
     "metadata": {},
     "outputs": []
    },
    {
     "cell_type": "heading",
     "level": 3,
     "metadata": {},
     "source": [
      "Example 2: Plotting overlayed paths of simulated Brownian motion"
     ]
    },
    {
     "cell_type": "code",
     "collapsed": false,
     "input": [
      "using Brownian"
     ],
     "language": "python",
     "metadata": {},
     "outputs": []
    },
    {
     "cell_type": "code",
     "collapsed": false,
     "input": [
      "n = 500;\n",
      "timepoints = 0:10/n:100;\n",
      "processes = BrownianMotion(timepoints, 3);\n",
      "paths = rand(processes);"
     ],
     "language": "python",
     "metadata": {},
     "outputs": []
    },
    {
     "cell_type": "code",
     "collapsed": false,
     "input": [
      "set_default_plot_size(19cm, 8cm)"
     ],
     "language": "python",
     "metadata": {},
     "outputs": []
    },
    {
     "cell_type": "code",
     "collapsed": false,
     "input": [
      "plot(x=repeat(collect(timepoints), outer=[3]),\n",
      "  y=reshape(paths, size(paths, 2)*size(paths, 1), 1),\n",
      "  color=repeat([\"1\", \"2\", \"3\"], inner=[length(timepoints)]),\n",
      "  Scale.discrete_color_manual(\"red\",\"blue\", \"green\"),\n",
      "  Geom.line,\n",
      "  Guide.xlabel(\"Time points\"),\n",
      "  Guide.ylabel(\"\"),\n",
      "  Guide.title(\"Simulated Brownian paths\"),\n",
      "  Guide.colorkey(\"Paths\"))"
     ],
     "language": "python",
     "metadata": {},
     "outputs": []
    }
   ],
   "metadata": {}
  }
 ]
}